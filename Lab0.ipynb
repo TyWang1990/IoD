{
 "cells": [
  {
   "cell_type": "markdown",
   "id": "oBcJci-AuNS4",
   "metadata": {
    "id": "oBcJci-AuNS4"
   },
   "source": [
    "<div>\n",
    "<img src=https://www.institutedata.com/wp-content/uploads/2019/10/iod_h_tp_primary_c.svg width=\"300\">\n",
    "</div>"
   ]
  },
  {
   "cell_type": "markdown",
   "id": "37d30622",
   "metadata": {
    "id": "37d30622"
   },
   "source": [
    "# Welcome to the Institute of Data!"
   ]
  },
  {
   "cell_type": "markdown",
   "id": "2dc6f4b5",
   "metadata": {
    "id": "2dc6f4b5"
   },
   "source": [
    "The following questions are NOT designed to be completed by everyone here.\n",
    "\n",
    "This is just to a diagnostic quiz to see where you are at. \n",
    "\n",
    "Have fun with them!"
   ]
  },
  {
   "cell_type": "markdown",
   "id": "90deb090",
   "metadata": {
    "id": "90deb090"
   },
   "source": [
    "## Exercise 1: \n",
    "\n",
    "Print out an interesting fact about you!\n",
    "For example: 'My favorite song right now is ____'"
   ]
  },
  {
   "cell_type": "code",
   "execution_count": 1,
   "id": "716be261",
   "metadata": {
    "id": "716be261"
   },
   "outputs": [
    {
     "name": "stdout",
     "output_type": "stream",
     "text": [
      "Hello, World!\n"
     ]
    }
   ],
   "source": [
    "print('Hello, World!')"
   ]
  },
  {
   "cell_type": "markdown",
   "id": "ea47d1a6",
   "metadata": {
    "id": "ea47d1a6"
   },
   "source": [
    "## Exercise 2: "
   ]
  },
  {
   "cell_type": "markdown",
   "id": "b2a097de",
   "metadata": {
    "id": "b2a097de"
   },
   "source": [
    "Return the answer to the following: \n",
    "\n",
    "What is 271,097 divided by 2300?"
   ]
  },
  {
   "cell_type": "code",
   "execution_count": 4,
   "id": "9578a2c6",
   "metadata": {
    "id": "9578a2c6"
   },
   "outputs": [
    {
     "name": "stdout",
     "output_type": "stream",
     "text": [
      "117.86826086956522\n"
     ]
    }
   ],
   "source": [
    "print(271097/2300)"
   ]
  },
  {
   "cell_type": "markdown",
   "id": "acf38607",
   "metadata": {
    "id": "acf38607"
   },
   "source": [
    "## Exercise 3: "
   ]
  },
  {
   "cell_type": "markdown",
   "id": "8333e1aa",
   "metadata": {
    "id": "8333e1aa"
   },
   "source": [
    "Print the sum of the following list:"
   ]
  },
  {
   "cell_type": "code",
   "execution_count": 6,
   "id": "696701d3",
   "metadata": {
    "id": "696701d3"
   },
   "outputs": [
    {
     "name": "stdout",
     "output_type": "stream",
     "text": [
      "43\n"
     ]
    }
   ],
   "source": [
    "# Initialize List\n",
    "new_list = [1,3,5,7,9,18]\n",
    "\n",
    "print(sum(new_list))"
   ]
  },
  {
   "cell_type": "markdown",
   "id": "5b4c6de1",
   "metadata": {
    "id": "5b4c6de1"
   },
   "source": [
    "## Exercise 4: \n",
    "\n",
    "Return the sum, minimum and maximum of the following list:"
   ]
  },
  {
   "cell_type": "code",
   "execution_count": 7,
   "id": "2e12b14d",
   "metadata": {
    "id": "2e12b14d"
   },
   "outputs": [
    {
     "name": "stdout",
     "output_type": "stream",
     "text": [
      "151\n",
      "4\n",
      "117\n"
     ]
    }
   ],
   "source": [
    "# Initialize List\n",
    "new_list = [7,23,117,4]\n",
    "\n",
    "print(sum(new_list))\n",
    "print(min(new_list))\n",
    "print(max(new_list))"
   ]
  },
  {
   "cell_type": "markdown",
   "id": "3422e1d9",
   "metadata": {
    "id": "3422e1d9"
   },
   "source": [
    "## Exercise 5:\n",
    "\n",
    "Create a function which takes two numbers, and returns the product."
   ]
  },
  {
   "cell_type": "code",
   "execution_count": 9,
   "id": "df46f521",
   "metadata": {
    "id": "df46f521"
   },
   "outputs": [],
   "source": [
    "def sum(a, b):\n",
    "    print(a + b)\n"
   ]
  },
  {
   "cell_type": "code",
   "execution_count": 10,
   "id": "41770605",
   "metadata": {
    "id": "41770605"
   },
   "outputs": [
    {
     "name": "stdout",
     "output_type": "stream",
     "text": [
      "21\n"
     ]
    }
   ],
   "source": [
    "sum(7, 14)"
   ]
  },
  {
   "cell_type": "markdown",
   "id": "d21599da",
   "metadata": {
    "id": "d21599da"
   },
   "source": [
    "## Exercise 6:\n",
    "\n",
    "Create a function which takes in two numbers (a and b) and returns the amount of numbers below a which are divisiible by b."
   ]
  },
  {
   "cell_type": "code",
   "execution_count": 12,
   "id": "b53eb200",
   "metadata": {
    "id": "b53eb200"
   },
   "outputs": [],
   "source": [
    "def divisible(a, b):\n",
    "    count_list = []\n",
    "    for i in range(0, a):\n",
    "        if i % b == 0:\n",
    "            count_list.append(i)\n",
    "    print(len(count_list))"
   ]
  },
  {
   "cell_type": "code",
   "execution_count": 13,
   "id": "24e84eb2",
   "metadata": {
    "id": "24e84eb2"
   },
   "outputs": [
    {
     "name": "stdout",
     "output_type": "stream",
     "text": [
      "34\n"
     ]
    }
   ],
   "source": [
    "divisible(100, 3)"
   ]
  },
  {
   "cell_type": "markdown",
   "id": "6mf18q9butFG",
   "metadata": {
    "id": "6mf18q9butFG"
   },
   "source": [
    "\n",
    "\n",
    "---\n",
    "\n",
    "\n",
    "\n",
    "---\n",
    "\n",
    "\n",
    "\n",
    "> > > > > > > > > © 2022 Institute of Data\n",
    "\n",
    "\n",
    "---\n",
    "\n",
    "\n",
    "\n",
    "---\n",
    "\n",
    "\n",
    "\n"
   ]
  }
 ],
 "metadata": {
  "colab": {
   "collapsed_sections": [],
   "name": "Week_0_lab_Exercise.ipynb",
   "provenance": []
  },
  "kernelspec": {
   "display_name": "Python 3 (ipykernel)",
   "language": "python",
   "name": "python3"
  },
  "language_info": {
   "codemirror_mode": {
    "name": "ipython",
    "version": 3
   },
   "file_extension": ".py",
   "mimetype": "text/x-python",
   "name": "python",
   "nbconvert_exporter": "python",
   "pygments_lexer": "ipython3",
   "version": "3.9.12"
  }
 },
 "nbformat": 4,
 "nbformat_minor": 5
}
